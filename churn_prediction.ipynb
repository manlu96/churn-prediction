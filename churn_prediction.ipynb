{
 "cells": [
  {
   "cell_type": "code",
   "execution_count": 27,
   "metadata": {},
   "outputs": [],
   "source": [
    "import pandas as pd\n",
    "import numpy as np\n",
    "import matplotlib.pyplot as plt\n",
    "import seaborn as sns"
   ]
  },
  {
   "cell_type": "code",
   "execution_count": 28,
   "metadata": {},
   "outputs": [
    {
     "data": {
      "text/html": [
       "<div>\n",
       "<style scoped>\n",
       "    .dataframe tbody tr th:only-of-type {\n",
       "        vertical-align: middle;\n",
       "    }\n",
       "\n",
       "    .dataframe tbody tr th {\n",
       "        vertical-align: top;\n",
       "    }\n",
       "\n",
       "    .dataframe thead th {\n",
       "        text-align: right;\n",
       "    }\n",
       "</style>\n",
       "<table border=\"1\" class=\"dataframe\">\n",
       "  <thead>\n",
       "    <tr style=\"text-align: right;\">\n",
       "      <th></th>\n",
       "      <th>Customer_ID</th>\n",
       "      <th>Customer_PurchaseChannelGroup</th>\n",
       "      <th>Customer_MembershipType</th>\n",
       "      <th>Customer_LoyaltyStatus</th>\n",
       "      <th>FirstTransactionDate</th>\n",
       "      <th>LastTransactionDate</th>\n",
       "      <th>Tenure</th>\n",
       "      <th>AOV</th>\n",
       "      <th>OrderFrequency</th>\n",
       "      <th>Customer_OrderCount</th>\n",
       "      <th>...</th>\n",
       "      <th>Gender</th>\n",
       "      <th>Income_Updated</th>\n",
       "      <th>Footwear</th>\n",
       "      <th>Apparel</th>\n",
       "      <th>Hats</th>\n",
       "      <th>Gifts_Home</th>\n",
       "      <th>Accessories</th>\n",
       "      <th>Tack</th>\n",
       "      <th>Misc_Startup</th>\n",
       "      <th>churn</th>\n",
       "    </tr>\n",
       "  </thead>\n",
       "  <tbody>\n",
       "    <tr>\n",
       "      <th>0</th>\n",
       "      <td>9364512</td>\n",
       "      <td>Omni</td>\n",
       "      <td>GOLD</td>\n",
       "      <td>Loyalty</td>\n",
       "      <td>1/11/2016 0:00</td>\n",
       "      <td>6/24/2022 0:00</td>\n",
       "      <td>77</td>\n",
       "      <td>62.359153</td>\n",
       "      <td>18</td>\n",
       "      <td>130</td>\n",
       "      <td>...</td>\n",
       "      <td>M</td>\n",
       "      <td>J</td>\n",
       "      <td>27</td>\n",
       "      <td>198</td>\n",
       "      <td>19</td>\n",
       "      <td>4</td>\n",
       "      <td>12</td>\n",
       "      <td>0</td>\n",
       "      <td>0</td>\n",
       "      <td>0</td>\n",
       "    </tr>\n",
       "    <tr>\n",
       "      <th>1</th>\n",
       "      <td>5081486</td>\n",
       "      <td>StoreOnly</td>\n",
       "      <td>GOLD</td>\n",
       "      <td>Loyalty</td>\n",
       "      <td>1/18/2015 0:00</td>\n",
       "      <td>7/23/2021 0:00</td>\n",
       "      <td>78</td>\n",
       "      <td>103.174666</td>\n",
       "      <td>158</td>\n",
       "      <td>15</td>\n",
       "      <td>...</td>\n",
       "      <td>F</td>\n",
       "      <td></td>\n",
       "      <td>6</td>\n",
       "      <td>10</td>\n",
       "      <td>1</td>\n",
       "      <td>0</td>\n",
       "      <td>4</td>\n",
       "      <td>0</td>\n",
       "      <td>0</td>\n",
       "      <td>1</td>\n",
       "    </tr>\n",
       "    <tr>\n",
       "      <th>2</th>\n",
       "      <td>397745</td>\n",
       "      <td>StoreOnly</td>\n",
       "      <td>GOLD</td>\n",
       "      <td>Loyalty</td>\n",
       "      <td>3/11/2012 0:00</td>\n",
       "      <td>5/15/2021 0:00</td>\n",
       "      <td>110</td>\n",
       "      <td>77.148541</td>\n",
       "      <td>69</td>\n",
       "      <td>48</td>\n",
       "      <td>...</td>\n",
       "      <td></td>\n",
       "      <td></td>\n",
       "      <td>6</td>\n",
       "      <td>98</td>\n",
       "      <td>12</td>\n",
       "      <td>4</td>\n",
       "      <td>22</td>\n",
       "      <td>0</td>\n",
       "      <td>6</td>\n",
       "      <td>1</td>\n",
       "    </tr>\n",
       "    <tr>\n",
       "      <th>3</th>\n",
       "      <td>9345824</td>\n",
       "      <td>StoreOnly</td>\n",
       "      <td>GOLD</td>\n",
       "      <td>Loyalty</td>\n",
       "      <td>3/3/2016 0:00</td>\n",
       "      <td>1/21/2022 0:00</td>\n",
       "      <td>70</td>\n",
       "      <td>128.346190</td>\n",
       "      <td>102</td>\n",
       "      <td>21</td>\n",
       "      <td>...</td>\n",
       "      <td></td>\n",
       "      <td></td>\n",
       "      <td>14</td>\n",
       "      <td>32</td>\n",
       "      <td>0</td>\n",
       "      <td>0</td>\n",
       "      <td>11</td>\n",
       "      <td>0</td>\n",
       "      <td>1</td>\n",
       "      <td>1</td>\n",
       "    </tr>\n",
       "    <tr>\n",
       "      <th>4</th>\n",
       "      <td>5357812</td>\n",
       "      <td>StoreOnly</td>\n",
       "      <td>GOLD</td>\n",
       "      <td>Loyalty</td>\n",
       "      <td>3/4/2016 0:00</td>\n",
       "      <td>3/25/2022 0:00</td>\n",
       "      <td>72</td>\n",
       "      <td>70.461904</td>\n",
       "      <td>105</td>\n",
       "      <td>21</td>\n",
       "      <td>...</td>\n",
       "      <td>M</td>\n",
       "      <td>M</td>\n",
       "      <td>1</td>\n",
       "      <td>31</td>\n",
       "      <td>3</td>\n",
       "      <td>0</td>\n",
       "      <td>10</td>\n",
       "      <td>0</td>\n",
       "      <td>0</td>\n",
       "      <td>0</td>\n",
       "    </tr>\n",
       "  </tbody>\n",
       "</table>\n",
       "<p>5 rows × 21 columns</p>\n",
       "</div>"
      ],
      "text/plain": [
       "   Customer_ID Customer_PurchaseChannelGroup Customer_MembershipType  \\\n",
       "0      9364512                          Omni                    GOLD   \n",
       "1      5081486                     StoreOnly                    GOLD   \n",
       "2       397745                     StoreOnly                    GOLD   \n",
       "3      9345824                     StoreOnly                    GOLD   \n",
       "4      5357812                     StoreOnly                    GOLD   \n",
       "\n",
       "  Customer_LoyaltyStatus FirstTransactionDate LastTransactionDate  Tenure  \\\n",
       "0                Loyalty       1/11/2016 0:00      6/24/2022 0:00      77   \n",
       "1                Loyalty       1/18/2015 0:00      7/23/2021 0:00      78   \n",
       "2                Loyalty       3/11/2012 0:00      5/15/2021 0:00     110   \n",
       "3                Loyalty        3/3/2016 0:00      1/21/2022 0:00      70   \n",
       "4                Loyalty        3/4/2016 0:00      3/25/2022 0:00      72   \n",
       "\n",
       "          AOV  OrderFrequency  Customer_OrderCount  ... Gender Income_Updated  \\\n",
       "0   62.359153              18                  130  ...      M              J   \n",
       "1  103.174666             158                   15  ...      F                  \n",
       "2   77.148541              69                   48  ...                         \n",
       "3  128.346190             102                   21  ...                         \n",
       "4   70.461904             105                   21  ...      M              M   \n",
       "\n",
       "  Footwear  Apparel  Hats  Gifts_Home  Accessories  Tack  Misc_Startup  churn  \n",
       "0       27      198    19           4           12     0             0      0  \n",
       "1        6       10     1           0            4     0             0      1  \n",
       "2        6       98    12           4           22     0             6      1  \n",
       "3       14       32     0           0           11     0             1      1  \n",
       "4        1       31     3           0           10     0             0      0  \n",
       "\n",
       "[5 rows x 21 columns]"
      ]
     },
     "execution_count": 28,
     "metadata": {},
     "output_type": "execute_result"
    }
   ],
   "source": [
    "churn_df = pd.read_csv(\"CustomerInformation.csv\")\n",
    "churn_df.head()"
   ]
  },
  {
   "cell_type": "code",
   "execution_count": 29,
   "metadata": {},
   "outputs": [
    {
     "name": "stdout",
     "output_type": "stream",
     "text": [
      "<class 'pandas.core.frame.DataFrame'>\n",
      "RangeIndex: 50000 entries, 0 to 49999\n",
      "Data columns (total 21 columns):\n",
      " #   Column                         Non-Null Count  Dtype  \n",
      "---  ------                         --------------  -----  \n",
      " 0   Customer_ID                    50000 non-null  int64  \n",
      " 1   Customer_PurchaseChannelGroup  49985 non-null  object \n",
      " 2   Customer_MembershipType        50000 non-null  object \n",
      " 3   Customer_LoyaltyStatus         50000 non-null  object \n",
      " 4   FirstTransactionDate           50000 non-null  object \n",
      " 5   LastTransactionDate            50000 non-null  object \n",
      " 6   Tenure                         50000 non-null  int64  \n",
      " 7   AOV                            50000 non-null  float64\n",
      " 8   OrderFrequency                 50000 non-null  int64  \n",
      " 9   Customer_OrderCount            50000 non-null  int64  \n",
      " 10  State                          49893 non-null  object \n",
      " 11  Gender                         50000 non-null  object \n",
      " 12  Income_Updated                 50000 non-null  object \n",
      " 13  Footwear                       50000 non-null  int64  \n",
      " 14  Apparel                        50000 non-null  int64  \n",
      " 15  Hats                           50000 non-null  int64  \n",
      " 16  Gifts_Home                     50000 non-null  int64  \n",
      " 17  Accessories                    50000 non-null  int64  \n",
      " 18  Tack                           50000 non-null  int64  \n",
      " 19  Misc_Startup                   50000 non-null  int64  \n",
      " 20  churn                          50000 non-null  int64  \n",
      "dtypes: float64(1), int64(12), object(8)\n",
      "memory usage: 8.0+ MB\n"
     ]
    }
   ],
   "source": [
    "churn_df.info()"
   ]
  },
  {
   "cell_type": "code",
   "execution_count": 30,
   "metadata": {},
   "outputs": [],
   "source": [
    "## tenure: number of months the customer has stayed with the company\n",
    "## AOV: average order value\n",
    "\n",
    "categorical_features = [\n",
    "\"Customer_PurchaseChannelGroup\",\n",
    "\"Customer_MembershipType\",\n",
    "\"Customer_LoyaltyStatus\",\n",
    "\"State\",\n",
    "\"Gender\",\n",
    "\"Income_Updated\",\n",
    "]\n",
    "numerical_features = [\"Tenure\", \"AOV\", \"OrderFrequency\", \"Customer_OrderCount\", \"Footwear\", \"Apparel\", \"Hats\", \"Gifts_Home\", \"Accessories\", \"Tack\", \"Misc_Startup\" ]\n",
    "target = \"churn\""
   ]
  },
  {
   "cell_type": "code",
   "execution_count": 31,
   "metadata": {},
   "outputs": [
    {
     "data": {
      "text/html": [
       "<div>\n",
       "<style scoped>\n",
       "    .dataframe tbody tr th:only-of-type {\n",
       "        vertical-align: middle;\n",
       "    }\n",
       "\n",
       "    .dataframe tbody tr th {\n",
       "        vertical-align: top;\n",
       "    }\n",
       "\n",
       "    .dataframe thead th {\n",
       "        text-align: right;\n",
       "    }\n",
       "</style>\n",
       "<table border=\"1\" class=\"dataframe\">\n",
       "  <thead>\n",
       "    <tr style=\"text-align: right;\">\n",
       "      <th></th>\n",
       "      <th>Tenure</th>\n",
       "      <th>AOV</th>\n",
       "      <th>OrderFrequency</th>\n",
       "      <th>Customer_OrderCount</th>\n",
       "      <th>Footwear</th>\n",
       "      <th>Apparel</th>\n",
       "      <th>Hats</th>\n",
       "      <th>Gifts_Home</th>\n",
       "      <th>Accessories</th>\n",
       "      <th>Tack</th>\n",
       "      <th>Misc_Startup</th>\n",
       "    </tr>\n",
       "  </thead>\n",
       "  <tbody>\n",
       "    <tr>\n",
       "      <th>count</th>\n",
       "      <td>50000.000000</td>\n",
       "      <td>50000.000000</td>\n",
       "      <td>50000.000000</td>\n",
       "      <td>50000.000000</td>\n",
       "      <td>50000.000000</td>\n",
       "      <td>50000.000000</td>\n",
       "      <td>50000.000000</td>\n",
       "      <td>50000.000000</td>\n",
       "      <td>50000.000000</td>\n",
       "      <td>50000.000000</td>\n",
       "      <td>50000.000000</td>\n",
       "    </tr>\n",
       "    <tr>\n",
       "      <th>mean</th>\n",
       "      <td>64.650320</td>\n",
       "      <td>126.612777</td>\n",
       "      <td>242.916560</td>\n",
       "      <td>21.725680</td>\n",
       "      <td>10.928340</td>\n",
       "      <td>23.424080</td>\n",
       "      <td>2.864780</td>\n",
       "      <td>2.429000</td>\n",
       "      <td>10.538660</td>\n",
       "      <td>0.072440</td>\n",
       "      <td>0.375420</td>\n",
       "    </tr>\n",
       "    <tr>\n",
       "      <th>std</th>\n",
       "      <td>41.220072</td>\n",
       "      <td>72.167593</td>\n",
       "      <td>229.249629</td>\n",
       "      <td>125.813906</td>\n",
       "      <td>95.850002</td>\n",
       "      <td>190.632909</td>\n",
       "      <td>12.028193</td>\n",
       "      <td>9.477719</td>\n",
       "      <td>71.138012</td>\n",
       "      <td>1.134151</td>\n",
       "      <td>4.105301</td>\n",
       "    </tr>\n",
       "    <tr>\n",
       "      <th>min</th>\n",
       "      <td>0.000000</td>\n",
       "      <td>-465.940000</td>\n",
       "      <td>0.000000</td>\n",
       "      <td>1.000000</td>\n",
       "      <td>0.000000</td>\n",
       "      <td>0.000000</td>\n",
       "      <td>0.000000</td>\n",
       "      <td>0.000000</td>\n",
       "      <td>0.000000</td>\n",
       "      <td>0.000000</td>\n",
       "      <td>0.000000</td>\n",
       "    </tr>\n",
       "    <tr>\n",
       "      <th>25%</th>\n",
       "      <td>28.000000</td>\n",
       "      <td>84.994583</td>\n",
       "      <td>83.000000</td>\n",
       "      <td>4.000000</td>\n",
       "      <td>2.000000</td>\n",
       "      <td>1.000000</td>\n",
       "      <td>0.000000</td>\n",
       "      <td>0.000000</td>\n",
       "      <td>1.000000</td>\n",
       "      <td>0.000000</td>\n",
       "      <td>0.000000</td>\n",
       "    </tr>\n",
       "    <tr>\n",
       "      <th>50%</th>\n",
       "      <td>70.000000</td>\n",
       "      <td>114.351941</td>\n",
       "      <td>163.000000</td>\n",
       "      <td>10.000000</td>\n",
       "      <td>5.000000</td>\n",
       "      <td>7.000000</td>\n",
       "      <td>1.000000</td>\n",
       "      <td>0.000000</td>\n",
       "      <td>4.000000</td>\n",
       "      <td>0.000000</td>\n",
       "      <td>0.000000</td>\n",
       "    </tr>\n",
       "    <tr>\n",
       "      <th>75%</th>\n",
       "      <td>100.000000</td>\n",
       "      <td>153.663437</td>\n",
       "      <td>316.000000</td>\n",
       "      <td>22.000000</td>\n",
       "      <td>10.000000</td>\n",
       "      <td>24.000000</td>\n",
       "      <td>3.000000</td>\n",
       "      <td>2.000000</td>\n",
       "      <td>11.000000</td>\n",
       "      <td>0.000000</td>\n",
       "      <td>0.000000</td>\n",
       "    </tr>\n",
       "    <tr>\n",
       "      <th>max</th>\n",
       "      <td>134.000000</td>\n",
       "      <td>4195.545000</td>\n",
       "      <td>1826.000000</td>\n",
       "      <td>19667.000000</td>\n",
       "      <td>12081.000000</td>\n",
       "      <td>28941.000000</td>\n",
       "      <td>1482.000000</td>\n",
       "      <td>756.000000</td>\n",
       "      <td>12933.000000</td>\n",
       "      <td>77.000000</td>\n",
       "      <td>645.000000</td>\n",
       "    </tr>\n",
       "  </tbody>\n",
       "</table>\n",
       "</div>"
      ],
      "text/plain": [
       "             Tenure           AOV  OrderFrequency  Customer_OrderCount  \\\n",
       "count  50000.000000  50000.000000    50000.000000         50000.000000   \n",
       "mean      64.650320    126.612777      242.916560            21.725680   \n",
       "std       41.220072     72.167593      229.249629           125.813906   \n",
       "min        0.000000   -465.940000        0.000000             1.000000   \n",
       "25%       28.000000     84.994583       83.000000             4.000000   \n",
       "50%       70.000000    114.351941      163.000000            10.000000   \n",
       "75%      100.000000    153.663437      316.000000            22.000000   \n",
       "max      134.000000   4195.545000     1826.000000         19667.000000   \n",
       "\n",
       "           Footwear       Apparel          Hats    Gifts_Home   Accessories  \\\n",
       "count  50000.000000  50000.000000  50000.000000  50000.000000  50000.000000   \n",
       "mean      10.928340     23.424080      2.864780      2.429000     10.538660   \n",
       "std       95.850002    190.632909     12.028193      9.477719     71.138012   \n",
       "min        0.000000      0.000000      0.000000      0.000000      0.000000   \n",
       "25%        2.000000      1.000000      0.000000      0.000000      1.000000   \n",
       "50%        5.000000      7.000000      1.000000      0.000000      4.000000   \n",
       "75%       10.000000     24.000000      3.000000      2.000000     11.000000   \n",
       "max    12081.000000  28941.000000   1482.000000    756.000000  12933.000000   \n",
       "\n",
       "               Tack  Misc_Startup  \n",
       "count  50000.000000  50000.000000  \n",
       "mean       0.072440      0.375420  \n",
       "std        1.134151      4.105301  \n",
       "min        0.000000      0.000000  \n",
       "25%        0.000000      0.000000  \n",
       "50%        0.000000      0.000000  \n",
       "75%        0.000000      0.000000  \n",
       "max       77.000000    645.000000  "
      ]
     },
     "execution_count": 31,
     "metadata": {},
     "output_type": "execute_result"
    }
   ],
   "source": [
    "churn_df[numerical_features].describe()"
   ]
  },
  {
   "cell_type": "code",
   "execution_count": 37,
   "metadata": {},
   "outputs": [
    {
     "name": "stdout",
     "output_type": "stream",
     "text": [
      "243.95799999999997\n"
     ]
    }
   ],
   "source": [
    "# churn_df.quantile(q=0.95,axis=0,numeric_only=True,interpolation='linear')\n",
    "print(churn_df['AOV'].quantile(q=0.95))"
   ]
  },
  {
   "cell_type": "code",
   "execution_count": 35,
   "metadata": {},
   "outputs": [],
   "source": [
    "churn_df = churn_df.drop(churn_df[churn_df['AOV'] <= 0].index)"
   ]
  },
  {
   "cell_type": "code",
   "execution_count": 38,
   "metadata": {},
   "outputs": [
    {
     "data": {
      "text/plain": [
       "<AxesSubplot:xlabel='churn', ylabel='Apparel'>"
      ]
     },
     "execution_count": 38,
     "metadata": {},
     "output_type": "execute_result"
    },
    {
     "data": {
      "image/png": "[encoded data removed]",
      "text/plain": [
       "<Figure size 1440x720 with 6 Axes>"
      ]
     },
     "metadata": {
      "needs_background": "light"
     },
     "output_type": "display_data"
    }
   ],
   "source": [
    "_,axss = plt.subplots(2,3,figsize = [20,10])\n",
    "sns.boxplot(x='churn', y='Tenure',data=churn_df,ax=axss[0][0])\n",
    "sns.boxplot(x='churn', y='AOV',data=churn_df,ax=axss[0][1])\n",
    "sns.boxplot(x='churn', y='OrderFrequency',data=churn_df,ax=axss[0][2])\n",
    "sns.boxplot(x='churn', y='Customer_OrderCount',data=churn_df,ax=axss[1][0])\n",
    "sns.boxplot(x='churn', y='Footwear',data=churn_df,ax=axss[1][1])\n",
    "sns.boxplot(x='churn', y='Apparel',data=churn_df,ax=axss[1][2])"
   ]
  },
  {
   "cell_type": "code",
   "execution_count": 16,
   "metadata": {},
   "outputs": [
    {
     "data": {
      "text/plain": [
       "<AxesSubplot:xlabel='churn', ylabel='count'>"
      ]
     },
     "execution_count": 16,
     "metadata": {},
     "output_type": "execute_result"
    },
    {
     "data": {
      "image/png": "[encoded data removed]",
      "text/plain": [
       "<Figure size 1440x720 with 6 Axes>"
      ]
     },
     "metadata": {
      "needs_background": "light"
     },
     "output_type": "display_data"
    }
   ],
   "source": [
    "_,axss = plt.subplots(2,3,figsize = [20,10])\n",
    "sns.countplot(x='churn', hue='Customer_PurchaseChannelGroup', data=churn_df,ax = axss[0][0])\n",
    "sns.countplot(x='churn', hue='Customer_MembershipType', data=churn_df,ax = axss[0][1])\n",
    "sns.countplot(x='churn', hue='Customer_LoyaltyStatus', data=churn_df,ax = axss[0][2])\n",
    "sns.countplot(x='churn', hue='Gender', data=churn_df,ax = axss[1][0])\n",
    "sns.countplot(x='churn', hue='Income_Updated', data=churn_df,ax = axss[1][1])\n"
   ]
  },
  {
   "cell_type": "code",
   "execution_count": 18,
   "metadata": {},
   "outputs": [
    {
     "data": {
      "text/plain": [
       "<AxesSubplot:>"
      ]
     },
     "execution_count": 18,
     "metadata": {},
     "output_type": "execute_result"
    },
    {
     "data": {
      "image/png": "[encoded data removed]",
      "text/plain": [
       "<Figure size 432x288 with 2 Axes>"
      ]
     },
     "metadata": {
      "needs_background": "light"
     },
     "output_type": "display_data"
    }
   ],
   "source": [
    "corr_score = churn_df[['Tenure','Customer_OrderCount']].corr()\n",
    "\n",
    "sns.heatmap(corr_score)"
   ]
  }
 ],
 "metadata": {
  "kernelspec": {
   "display_name": "Python 3.9.12 ('base')",
   "language": "python",
   "name": "python3"
  },
  "language_info": {
   "codemirror_mode": {
    "name": "ipython",
    "version": 3
   },
   "file_extension": ".py",
   "mimetype": "text/x-python",
   "name": "python",
   "nbconvert_exporter": "python",
   "pygments_lexer": "ipython3",
   "version": "3.9.12"
  },
  "orig_nbformat": 4,
  "vscode": {
   "interpreter": {
    "hash": "c1d5bbb8e01b23087d37d2c8b3fd037fe141f140116459ca7c6d506ce072c344"
   }
  }
 },
 "nbformat": 4,
 "nbformat_minor": 2
}
